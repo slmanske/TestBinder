{
 "cells": [
  {
   "cell_type": "code",
   "execution_count": 2,
   "id": "2b978bc2",
   "metadata": {},
   "outputs": [],
   "source": [
    "import numpy as np\n",
    "import SimpleITK as sitk\n",
    "\n",
    "from matplotlib import pyplot as plt\n",
    "\n",
    "from ormir_xct.util.hildebrand_thickness import calc_structure_thickness_statistics\n",
    "from ormir_xct.segmentation.ipl_seg import ipl_seg"
   ]
  },
  {
   "cell_type": "code",
   "execution_count": 3,
   "id": "86476533",
   "metadata": {},
   "outputs": [],
   "source": [
    "def create_shape(shape, voxel_widths, thickness, shape_type=\"sphere\"):\n",
    "    center = (\n",
    "        voxel_widths[0] * (shape[0] // 2), \n",
    "        voxel_widths[1] * (shape[1] // 2), \n",
    "        voxel_widths[2] * (shape[2] // 2)\n",
    "    )\n",
    "    x, y, z = np.meshgrid(*[voxel_widths[i] * np.arange(0, shape[i]) for i in range(3)], indexing=\"ij\")\n",
    "    if shape_type == \"sphere\":\n",
    "        mask = (((x-center[0])**2 + (y-center[1])**2 + (z-center[2])**2) < (thickness/2)**2).astype(int)\n",
    "    elif shape_type == \"cylinder\":\n",
    "        mask = (((x-center[0])**2 + (y-center[1])**2) < (thickness/2)**2).astype(int)\n",
    "    elif shape_type == \"plate\":\n",
    "        mask = (np.abs(x-center[0]) < thickness/2).astype(int)\n",
    "    else:\n",
    "        raise ValueError(f\"`shape_type` can be `sphere`, `cylinder`, `plate`; got {shape_type}\")\n",
    "    return mask"
   ]
  },
  {
   "cell_type": "markdown",
   "id": "c6493b29",
   "metadata": {},
   "source": [
    "Generate a synthetic sphere, cylinder, and plate:\n",
    "CHANGE THIS TO READING AN INPUT FILE"
   ]
  },
  {
   "cell_type": "code",
   "execution_count": 4,
   "id": "d09f6918",
   "metadata": {},
   "outputs": [],
   "source": [
    "shape = tuple([50]*3)\n",
    "voxel_widths = tuple([0.0607]*3)\n",
    "radius = 1\n",
    "\n",
    "sphere = create_shape(shape, voxel_widths, radius, shape_type=\"sphere\")\n",
    "cylinder = create_shape(shape, voxel_widths, radius, shape_type=\"cylinder\")\n",
    "plate = create_shape(shape, voxel_widths, radius, shape_type=\"plate\")"
   ]
  },
  {
   "cell_type": "markdown",
   "id": "63769986",
   "metadata": {},
   "source": [
    "Check their estimated mean thicknesses:"
   ]
  },
  {
   "cell_type": "code",
   "execution_count": 5,
   "id": "0f4b703c",
   "metadata": {},
   "outputs": [],
   "source": [
    "sphere_thickness_stats = calc_structure_thickness_statistics(sphere, voxel_widths, 0)\n",
    "cylinder_thickness_stats = calc_structure_thickness_statistics(cylinder, voxel_widths, 0)\n",
    "plate_thickness_stats = calc_structure_thickness_statistics(plate, voxel_widths, 0)"
   ]
  },
  {
   "cell_type": "code",
   "execution_count": 6,
   "id": "86ece109",
   "metadata": {},
   "outputs": [
    {
     "name": "stdout",
     "output_type": "stream",
     "text": [
      "Sphere thickness is 0.898 +/- 0.000\n",
      "Cylinder thickness is 0.929 +/- 0.000\n",
      "Plate thickness is 1.032 +/- 0.000\n"
     ]
    }
   ],
   "source": [
    "print(f\"Sphere thickness is {sphere_thickness_stats[0]:0.3f} +/- {sphere_thickness_stats[1]:0.3f}\")\n",
    "print(f\"Cylinder thickness is {cylinder_thickness_stats[0]:0.3f} +/- {cylinder_thickness_stats[1]:0.3f}\")\n",
    "print(f\"Plate thickness is {plate_thickness_stats[0]:0.3f} +/- {plate_thickness_stats[1]:0.3f}\")"
   ]
  },
  {
   "cell_type": "code",
   "execution_count": null,
   "id": "6b31cca6",
   "metadata": {},
   "outputs": [],
   "source": []
  }
 ],
 "metadata": {
  "kernelspec": {
   "display_name": "Python 3 (ipykernel)",
   "language": "python",
   "name": "python3"
  },
  "language_info": {
   "codemirror_mode": {
    "name": "ipython",
    "version": 3
   },
   "file_extension": ".py",
   "mimetype": "text/x-python",
   "name": "python",
   "nbconvert_exporter": "python",
   "pygments_lexer": "ipython3",
   "version": "3.8.5"
  }
 },
 "nbformat": 4,
 "nbformat_minor": 5
}
